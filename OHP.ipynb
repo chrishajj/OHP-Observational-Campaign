{
 "cells": [
  {
   "cell_type": "code",
   "execution_count": 1,
   "metadata": {},
   "outputs": [],
   "source": [
    "import os\n",
    "import numpy as np\n",
    "import matplotlib.pyplot as plt\n",
    "import astropy.io.fits as pf\n",
    "from astropy.stats import mad_std\n",
    "from astropy import units as u\n",
    "from astropy.visualization import ZScaleInterval\n",
    "import ccdproc as ccdp\n",
    "from hap703p_utils import imstat, inv_median"
   ]
  },
  {
   "cell_type": "code",
   "execution_count": 2,
   "metadata": {},
   "outputs": [],
   "source": [
    "procim = ccdp.ImageFileCollection('/home/christian/Desktop/Montpellier/Courses/OHP/OHP_DATA/Processed/long/')\n",
    "procim_B = procim.filter(filter='B_cousins',exposure=300)\n",
    "procim_V = procim.filter(filter='V_cousins',exposure=150)\n",
    "procim_R = procim.filter(filter='R_cousins',exposure=120)"
   ]
  },
  {
   "cell_type": "code",
   "execution_count": 4,
   "metadata": {},
   "outputs": [
    {
     "name": "stderr",
     "output_type": "stream",
     "text": [
      "INFO:astropy:using the unit adu passed to the FITS reader instead of the unit electron in the FITS file.\n",
      "INFO:astropy:splitting each image into 2 chunks to limit memory usage to 512000000.0 bytes.\n",
      "INFO:astropy:using the unit adu passed to the FITS reader instead of the unit electron in the FITS file.\n",
      "INFO:astropy:using the unit adu passed to the FITS reader instead of the unit electron in the FITS file.\n",
      "INFO:astropy:using the unit adu passed to the FITS reader instead of the unit electron in the FITS file.\n",
      "INFO:astropy:using the unit adu passed to the FITS reader instead of the unit electron in the FITS file.\n"
     ]
    },
    {
     "name": "stdout",
     "output_type": "stream",
     "text": [
      "INFO: using the unit adu passed to the FITS reader instead of the unit electron in the FITS file. [astropy.nddata.ccddata]\n",
      "INFO: splitting each image into 2 chunks to limit memory usage to 512000000.0 bytes. [ccdproc.combiner]\n",
      "INFO: using the unit adu passed to the FITS reader instead of the unit electron in the FITS file. [astropy.nddata.ccddata]\n",
      "INFO: using the unit adu passed to the FITS reader instead of the unit electron in the FITS file. [astropy.nddata.ccddata]\n",
      "INFO: using the unit adu passed to the FITS reader instead of the unit electron in the FITS file. [astropy.nddata.ccddata]\n",
      "INFO: using the unit adu passed to the FITS reader instead of the unit electron in the FITS file. [astropy.nddata.ccddata]\n"
     ]
    },
    {
     "name": "stderr",
     "output_type": "stream",
     "text": [
      "INFO:astropy:using the unit adu passed to the FITS reader instead of the unit electron in the FITS file.\n",
      "INFO:astropy:using the unit adu passed to the FITS reader instead of the unit electron in the FITS file.\n",
      "INFO:astropy:using the unit adu passed to the FITS reader instead of the unit electron in the FITS file.\n",
      "INFO:astropy:using the unit adu passed to the FITS reader instead of the unit electron in the FITS file.\n"
     ]
    },
    {
     "name": "stdout",
     "output_type": "stream",
     "text": [
      "INFO: using the unit adu passed to the FITS reader instead of the unit electron in the FITS file. [astropy.nddata.ccddata]\n",
      "INFO: using the unit adu passed to the FITS reader instead of the unit electron in the FITS file. [astropy.nddata.ccddata]\n",
      "INFO: using the unit adu passed to the FITS reader instead of the unit electron in the FITS file. [astropy.nddata.ccddata]\n",
      "INFO: using the unit adu passed to the FITS reader instead of the unit electron in the FITS file. [astropy.nddata.ccddata]\n"
     ]
    },
    {
     "name": "stderr",
     "output_type": "stream",
     "text": [
      "INFO:astropy:using the unit adu passed to the FITS reader instead of the unit electron in the FITS file.\n",
      "WARNING: FITSFixedWarning: 'datfix' made the change 'Set MJD-OBS to 59842.887009 from DATE-OBS'. [astropy.wcs.wcs]\n",
      "WARNING:astropy:FITSFixedWarning: 'datfix' made the change 'Set MJD-OBS to 59842.887009 from DATE-OBS'.\n"
     ]
    },
    {
     "name": "stdout",
     "output_type": "stream",
     "text": [
      "INFO: using the unit adu passed to the FITS reader instead of the unit electron in the FITS file. [astropy.nddata.ccddata]\n"
     ]
    },
    {
     "name": "stderr",
     "output_type": "stream",
     "text": [
      "INFO:astropy:splitting each image into 2 chunks to limit memory usage to 512000000.0 bytes.\n",
      "INFO:astropy:using the unit adu passed to the FITS reader instead of the unit electron in the FITS file.\n"
     ]
    },
    {
     "name": "stdout",
     "output_type": "stream",
     "text": [
      "INFO: splitting each image into 2 chunks to limit memory usage to 512000000.0 bytes. [ccdproc.combiner]\n",
      "INFO: using the unit adu passed to the FITS reader instead of the unit electron in the FITS file. [astropy.nddata.ccddata]\n"
     ]
    },
    {
     "name": "stderr",
     "output_type": "stream",
     "text": [
      "INFO:astropy:using the unit adu passed to the FITS reader instead of the unit electron in the FITS file.\n",
      "WARNING: FITSFixedWarning: 'datfix' made the change 'Set MJD-OBS to 59842.894947 from DATE-OBS'. [astropy.wcs.wcs]\n",
      "WARNING:astropy:FITSFixedWarning: 'datfix' made the change 'Set MJD-OBS to 59842.894947 from DATE-OBS'.\n"
     ]
    },
    {
     "name": "stdout",
     "output_type": "stream",
     "text": [
      "INFO: using the unit adu passed to the FITS reader instead of the unit electron in the FITS file. [astropy.nddata.ccddata]\n"
     ]
    },
    {
     "name": "stderr",
     "output_type": "stream",
     "text": [
      "INFO:astropy:using the unit adu passed to the FITS reader instead of the unit electron in the FITS file.\n",
      "WARNING: FITSFixedWarning: 'datfix' made the change 'Set MJD-OBS to 59842.902430 from DATE-OBS'. [astropy.wcs.wcs]\n",
      "WARNING:astropy:FITSFixedWarning: 'datfix' made the change 'Set MJD-OBS to 59842.902430 from DATE-OBS'.\n"
     ]
    },
    {
     "name": "stdout",
     "output_type": "stream",
     "text": [
      "INFO: using the unit adu passed to the FITS reader instead of the unit electron in the FITS file. [astropy.nddata.ccddata]\n"
     ]
    },
    {
     "name": "stderr",
     "output_type": "stream",
     "text": [
      "INFO:astropy:using the unit adu passed to the FITS reader instead of the unit electron in the FITS file.\n",
      "WARNING: FITSFixedWarning: 'datfix' made the change 'Set MJD-OBS to 59842.909941 from DATE-OBS'. [astropy.wcs.wcs]\n",
      "WARNING:astropy:FITSFixedWarning: 'datfix' made the change 'Set MJD-OBS to 59842.909941 from DATE-OBS'.\n"
     ]
    },
    {
     "name": "stdout",
     "output_type": "stream",
     "text": [
      "INFO: using the unit adu passed to the FITS reader instead of the unit electron in the FITS file. [astropy.nddata.ccddata]\n"
     ]
    },
    {
     "name": "stderr",
     "output_type": "stream",
     "text": [
      "INFO:astropy:using the unit adu passed to the FITS reader instead of the unit electron in the FITS file.\n",
      "INFO:astropy:using the unit adu passed to the FITS reader instead of the unit electron in the FITS file.\n"
     ]
    },
    {
     "name": "stdout",
     "output_type": "stream",
     "text": [
      "INFO: using the unit adu passed to the FITS reader instead of the unit electron in the FITS file. [astropy.nddata.ccddata]\n",
      "INFO: using the unit adu passed to the FITS reader instead of the unit electron in the FITS file. [astropy.nddata.ccddata]\n"
     ]
    },
    {
     "name": "stderr",
     "output_type": "stream",
     "text": [
      "INFO:astropy:using the unit adu passed to the FITS reader instead of the unit electron in the FITS file.\n"
     ]
    },
    {
     "name": "stdout",
     "output_type": "stream",
     "text": [
      "INFO: using the unit adu passed to the FITS reader instead of the unit electron in the FITS file. [astropy.nddata.ccddata]\n"
     ]
    },
    {
     "name": "stderr",
     "output_type": "stream",
     "text": [
      "INFO:astropy:using the unit adu passed to the FITS reader instead of the unit electron in the FITS file.\n"
     ]
    },
    {
     "name": "stdout",
     "output_type": "stream",
     "text": [
      "INFO: using the unit adu passed to the FITS reader instead of the unit electron in the FITS file. [astropy.nddata.ccddata]\n"
     ]
    },
    {
     "name": "stderr",
     "output_type": "stream",
     "text": [
      "INFO:astropy:using the unit adu passed to the FITS reader instead of the unit electron in the FITS file.\n",
      "WARNING: FITSFixedWarning: 'datfix' made the change 'Set MJD-OBS to 59842.888906 from DATE-OBS'. [astropy.wcs.wcs]\n",
      "WARNING:astropy:FITSFixedWarning: 'datfix' made the change 'Set MJD-OBS to 59842.888906 from DATE-OBS'.\n"
     ]
    },
    {
     "name": "stdout",
     "output_type": "stream",
     "text": [
      "INFO: using the unit adu passed to the FITS reader instead of the unit electron in the FITS file. [astropy.nddata.ccddata]\n"
     ]
    },
    {
     "name": "stderr",
     "output_type": "stream",
     "text": [
      "INFO:astropy:splitting each image into 2 chunks to limit memory usage to 512000000.0 bytes.\n",
      "INFO:astropy:using the unit adu passed to the FITS reader instead of the unit electron in the FITS file.\n"
     ]
    },
    {
     "name": "stdout",
     "output_type": "stream",
     "text": [
      "INFO: splitting each image into 2 chunks to limit memory usage to 512000000.0 bytes. [ccdproc.combiner]\n",
      "INFO: using the unit adu passed to the FITS reader instead of the unit electron in the FITS file. [astropy.nddata.ccddata]\n"
     ]
    },
    {
     "name": "stderr",
     "output_type": "stream",
     "text": [
      "INFO:astropy:using the unit adu passed to the FITS reader instead of the unit electron in the FITS file.\n",
      "WARNING: FITSFixedWarning: 'datfix' made the change 'Set MJD-OBS to 59842.896844 from DATE-OBS'. [astropy.wcs.wcs]\n",
      "WARNING:astropy:FITSFixedWarning: 'datfix' made the change 'Set MJD-OBS to 59842.896844 from DATE-OBS'.\n"
     ]
    },
    {
     "name": "stdout",
     "output_type": "stream",
     "text": [
      "INFO: using the unit adu passed to the FITS reader instead of the unit electron in the FITS file. [astropy.nddata.ccddata]\n"
     ]
    },
    {
     "name": "stderr",
     "output_type": "stream",
     "text": [
      "INFO:astropy:using the unit adu passed to the FITS reader instead of the unit electron in the FITS file.\n",
      "WARNING: FITSFixedWarning: 'datfix' made the change 'Set MJD-OBS to 59842.904326 from DATE-OBS'. [astropy.wcs.wcs]\n",
      "WARNING:astropy:FITSFixedWarning: 'datfix' made the change 'Set MJD-OBS to 59842.904326 from DATE-OBS'.\n"
     ]
    },
    {
     "name": "stdout",
     "output_type": "stream",
     "text": [
      "INFO: using the unit adu passed to the FITS reader instead of the unit electron in the FITS file. [astropy.nddata.ccddata]\n"
     ]
    },
    {
     "name": "stderr",
     "output_type": "stream",
     "text": [
      "INFO:astropy:using the unit adu passed to the FITS reader instead of the unit electron in the FITS file.\n",
      "WARNING: FITSFixedWarning: 'datfix' made the change 'Set MJD-OBS to 59842.911837 from DATE-OBS'. [astropy.wcs.wcs]\n",
      "WARNING:astropy:FITSFixedWarning: 'datfix' made the change 'Set MJD-OBS to 59842.911837 from DATE-OBS'.\n"
     ]
    },
    {
     "name": "stdout",
     "output_type": "stream",
     "text": [
      "INFO: using the unit adu passed to the FITS reader instead of the unit electron in the FITS file. [astropy.nddata.ccddata]\n"
     ]
    },
    {
     "name": "stderr",
     "output_type": "stream",
     "text": [
      "INFO:astropy:using the unit adu passed to the FITS reader instead of the unit electron in the FITS file.\n",
      "INFO:astropy:using the unit adu passed to the FITS reader instead of the unit electron in the FITS file.\n"
     ]
    },
    {
     "name": "stdout",
     "output_type": "stream",
     "text": [
      "INFO: using the unit adu passed to the FITS reader instead of the unit electron in the FITS file. [astropy.nddata.ccddata]\n",
      "INFO: using the unit adu passed to the FITS reader instead of the unit electron in the FITS file. [astropy.nddata.ccddata]\n"
     ]
    },
    {
     "name": "stderr",
     "output_type": "stream",
     "text": [
      "INFO:astropy:using the unit adu passed to the FITS reader instead of the unit electron in the FITS file.\n"
     ]
    },
    {
     "name": "stdout",
     "output_type": "stream",
     "text": [
      "INFO: using the unit adu passed to the FITS reader instead of the unit electron in the FITS file. [astropy.nddata.ccddata]\n"
     ]
    },
    {
     "name": "stderr",
     "output_type": "stream",
     "text": [
      "INFO:astropy:using the unit adu passed to the FITS reader instead of the unit electron in the FITS file.\n"
     ]
    },
    {
     "name": "stdout",
     "output_type": "stream",
     "text": [
      "INFO: using the unit adu passed to the FITS reader instead of the unit electron in the FITS file. [astropy.nddata.ccddata]\n"
     ]
    }
   ],
   "source": [
    "imageB = ccdp.combine(procim_B.files_filtered(include_path=True), unit='adu', combine='average', \\\n",
    "                     sigma_clip=True, sigma_clip_low_thresh=5., sigma_clip_high_thresh=5., \\\n",
    "                         sigma_clip_func=np.ma.median, sigma_clip_dev_func=mad_std,mem_limit=512.e6)\n",
    "    \n",
    "imageB.write('/home/christian/Desktop/Montpellier/Courses/OHP/OHP_DATA/PyStacked/M15_long-B.fits',overwrite=True)\n",
    "\n",
    "imageV = ccdp.combine(procim_V.files_filtered(include_path=True), unit='adu', combine='average', \\\n",
    "                     sigma_clip=True, sigma_clip_low_thresh=5., sigma_clip_high_thresh=5., \\\n",
    "                         sigma_clip_func=np.ma.median, sigma_clip_dev_func=mad_std,mem_limit=512.e6)\n",
    "    \n",
    "imageV.write('/home/christian/Desktop/Montpellier/Courses/OHP/OHP_DATA/PyStacked/M15_long-V.fits',overwrite=True)\n",
    "\n",
    "imageR = ccdp.combine(procim_R.files_filtered(include_path=True), unit='adu', combine='average', \\\n",
    "                     sigma_clip=True, sigma_clip_low_thresh=5., sigma_clip_high_thresh=5., \\\n",
    "                         sigma_clip_func=np.ma.median, sigma_clip_dev_func=mad_std,mem_limit=512.e6)\n",
    "    \n",
    "imageR.write('/home/christian/Desktop/Montpellier/Courses/OHP/OHP_DATA/PyStacked/M15_long-R.fits',overwrite=True)"
   ]
  },
  {
   "cell_type": "code",
   "execution_count": null,
   "metadata": {},
   "outputs": [],
   "source": []
  }
 ],
 "metadata": {
  "kernelspec": {
   "display_name": "Python 3",
   "language": "python",
   "name": "python3"
  },
  "language_info": {
   "codemirror_mode": {
    "name": "ipython",
    "version": 3
   },
   "file_extension": ".py",
   "mimetype": "text/x-python",
   "name": "python",
   "nbconvert_exporter": "python",
   "pygments_lexer": "ipython3",
   "version": "3.8.10"
  }
 },
 "nbformat": 4,
 "nbformat_minor": 4
}
